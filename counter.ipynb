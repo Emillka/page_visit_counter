{
  "nbformat": 4,
  "nbformat_minor": 0,
  "metadata": {
    "colab": {
      "provenance": [],
      "include_colab_link": true
    },
    "kernelspec": {
      "name": "python3",
      "display_name": "Python 3"
    },
    "language_info": {
      "name": "python"
    }
  },
  "cells": [
    {
      "cell_type": "markdown",
      "metadata": {
        "id": "view-in-github",
        "colab_type": "text"
      },
      "source": [
        "<a href=\"https://colab.research.google.com/github/Emillka/page_visit_counter/blob/main/counter.ipynb\" target=\"_parent\"><img src=\"https://colab.research.google.com/assets/colab-badge.svg\" alt=\"Open In Colab\"/></a>"
      ]
    },
    {
      "cell_type": "code",
      "execution_count": null,
      "metadata": {
        "id": "43jRNbGcjEjY"
      },
      "outputs": [],
      "source": [
        "import requests\n",
        "\n",
        "url = 'tu wstaw url strony'\n",
        "count = 0\n",
        "\n",
        "while True:\n",
        "    try:\n",
        "        requests.get(url)\n",
        "        count += 1\n",
        "    except:\n",
        "        break\n",
        "\n",
        "print(f'Link {url} został odwiedzony {count} razy.')\n"
      ]
    }
  ]
}