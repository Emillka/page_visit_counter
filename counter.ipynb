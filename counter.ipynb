{
  "nbformat": 4,
  "nbformat_minor": 0,
  "metadata": {
    "colab": {
      "provenance": [],
      "authorship_tag": "ABX9TyOlhwA/XppktJ/X39MTNZ45",
      "include_colab_link": true
    },
    "kernelspec": {
      "name": "python3",
      "display_name": "Python 3"
    },
    "language_info": {
      "name": "python"
    }
  },
  "cells": [
    {
      "cell_type": "markdown",
      "metadata": {
        "id": "view-in-github",
        "colab_type": "text"
      },
      "source": [
        "<a href=\"https://colab.research.google.com/github/Emillka/page_visit_counter/blob/main/counter.ipynb\" target=\"_parent\"><img src=\"https://colab.research.google.com/assets/colab-badge.svg\" alt=\"Open In Colab\"/></a>"
      ]
    },
    {
      "cell_type": "code",
      "execution_count": 4,
      "metadata": {
        "colab": {
          "base_uri": "https://localhost:8080/"
        },
        "id": "43jRNbGcjEjY",
        "outputId": "1f147bde-8cb2-42a8-f855-c4b686650888"
      },
      "outputs": [
        {
          "output_type": "stream",
          "name": "stdout",
          "text": [
            "Link tu wstaw url strony został odwiedzony 0 razy.\n"
          ]
        }
      ],
      "source": [
        "import requests\n",
        "\n",
        "url = 'tu wstaw url strony'\n",
        "count = 0\n",
        "\n",
        "while True:\n",
        "    try:\n",
        "        requests.get(url)\n",
        "        count += 1\n",
        "    except:\n",
        "        break\n",
        "\n",
        "print(f'Link {url} został odwiedzony {count} razy.')\n"
      ]
    }
  ]
}